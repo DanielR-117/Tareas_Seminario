{
 "cells": [
  {
   "cell_type": "markdown",
   "id": "fe4d7694",
   "metadata": {},
   "source": [
    "# 🌌 Introducción a la Computación Cuántica\n",
    "\n",
    "Esta presentación ofrece una visión general sobre la computación cuántica, centrándose en tres librerías populares: **Cirq**, **PyQuil** y **TensorFlow Quantum**."
   ]
  },
  {
   "cell_type": "markdown",
   "id": "d333a7a5",
   "metadata": {},
   "source": [
    "## ¿Qué es la computación cuántica?\n",
    "\n",
    "La computación cuántica utiliza principios de la física cuántica —como la **superposición** y el **entrelazamiento**— para procesar información de formas que las computadoras tradicionales no pueden. En lugar de bits (0 o 1), se usan **qubits**, que pueden estar en múltiples estados al mismo tiempo."
   ]
  },
  {
   "cell_type": "markdown",
   "id": "cf9a9772",
   "metadata": {},
   "source": [
    "## 🧠 1. Cirq (de Google)\n",
    "\n",
    "- **¿Qué es?** Cirq es una librería de código abierto desarrollada por Google para construir y ejecutar circuitos cuánticos.\n",
    "- **¿Qué la hace especial?** Está centrada en el **control preciso** del hardware cuántico, ideal para investigaciones experimentales.\n",
    "- **¿Fácil de usar?** Es clara y bien documentada, aunque puede ser un poco técnica para principiantes."
   ]
  },
  {
   "cell_type": "markdown",
   "id": "b0c7f771",
   "metadata": {},
   "source": [
    "## 🧬 2. PyQuil (de Rigetti)\n",
    "\n",
    "- **¿Qué es?** Es una librería desarrollada por Rigetti que permite crear programas cuánticos usando el lenguaje **Quil**.\n",
    "- **¿Qué la hace especial?** Ofrece acceso a **simuladores** y a computadoras cuánticas reales de Rigetti.\n",
    "- **¿Fácil de usar?** Es bastante amigable para quienes están comenzando en la computación cuántica."
   ]
  },
  {
   "cell_type": "markdown",
   "id": "c529bdc8",
   "metadata": {},
   "source": [
    "## 🧮 3. TensorFlow Quantum (de Google)\n",
    "\n",
    "- **¿Qué es?** Una extensión de TensorFlow que permite mezclar **aprendizaje automático** con computación cuántica.\n",
    "- **¿Qué la hace especial?** Permite construir modelos híbridos de redes neuronales con circuitos cuánticos.\n",
    "- **¿Fácil de usar?** Requiere conocimientos previos de IA y puede ser compleja, pero muy poderosa para investigación."
   ]
  },
  {
   "cell_type": "markdown",
   "id": "94e1b0b9",
   "metadata": {},
   "source": [
    "## ⚖️ Comparativa entre las tres librerías\n",
    "\n",
    "| Característica           | **Cirq**              | **PyQuil**            | **TensorFlow Quantum**    |\n",
    "|--------------------------|------------------------|------------------------|----------------------------|\n",
    "| Empresa                  | Google                 | Rigetti               | Google                     |\n",
    "| Nivel de dificultad      | Medio-alto             | Bajo-medio            | Alto                       |\n",
    "| Enfoque principal        | Circuitos precisos     | Desarrollo accesible  | Aprendizaje cuántico       |\n",
    "| Uso con hardware real    | Sí (Google)            | Sí (Rigetti)          | No directamente            |\n",
    "| Integración con IA       | Limitada               | No                    | Muy fuerte                 |"
   ]
  },
  {
   "cell_type": "markdown",
   "id": "e523ef76",
   "metadata": {},
   "source": [
    "## 🎯 Conclusión\n",
    "\n",
    "- Usa **Cirq** si te interesa trabajar con hardware cuántico de Google y necesitas mucho control técnico.\n",
    "- Elige **PyQuil** si estás comenzando o si quieres una forma sencilla de probar algoritmos cuánticos.\n",
    "- Usa **TensorFlow Quantum** si ya tienes experiencia en IA y quieres explorar el **aprendizaje automático cuántico**."
   ]
  }
 ],
 "metadata": {},
 "nbformat": 4,
 "nbformat_minor": 5
}
