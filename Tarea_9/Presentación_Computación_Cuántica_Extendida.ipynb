{
 "cells": [
  {
   "cell_type": "markdown",
   "id": "e8207276",
   "metadata": {},
   "source": [
    "# 🌌 Introducción a la Computación Cuántica\n",
    "\n",
    "Esta presentación ofrece una visión general sobre la computación cuántica, centrándose en tres librerías populares: **Cirq**, **PyQuil** y **TensorFlow Quantum**."
   ]
  },
  {
   "cell_type": "markdown",
   "id": "1285114a",
   "metadata": {},
   "source": [
    "## ¿Qué es la computación cuántica?\n",
    "\n",
    "La computación cuántica utiliza principios de la física cuántica —como la **superposición** y el **entrelazamiento**— para procesar información de formas que las computadoras tradicionales no pueden. En lugar de bits (0 o 1), se usan **qubits**, que pueden estar en múltiples estados al mismo tiempo.\n",
    "\n",
    "Para programar algoritmos cuánticos, se utilizan librerías especializadas que permiten diseñar, simular y ejecutar circuitos cuánticos. A continuación, veremos tres de ellas."
   ]
  },
  {
   "cell_type": "markdown",
   "id": "44642b6b",
   "metadata": {},
   "source": [
    "## 🧠 1. Cirq (de Google)\n",
    "\n",
    "**Cirq** es una librería desarrollada por Google, especialmente pensada para trabajar con computadoras cuánticas físicas, como su procesador **Sycamore**. Permite construir circuitos cuánticos utilizando una API en Python.\n",
    "\n",
    "### Características principales:\n",
    "- Permite construir **circuitos cuánticos personalizados**, paso a paso, definiendo puertas y qubits explícitamente.\n",
    "- Enfocada en el **control de bajo nivel**, ideal para experimentos donde el tiempo y la precisión son críticos.\n",
    "- Se integra bien con simuladores cuánticos y también permite ejecutar los circuitos en hardware real.\n",
    "- Soporta optimización de circuitos y herramientas para analizar resultados de medidas.\n",
    "\n",
    "### Ejemplo de uso:\n",
    "```python\n",
    "import cirq\n",
    "q = cirq.NamedQubit(\"q0\")\n",
    "circuit = cirq.Circuit(cirq.H(q), cirq.measure(q))\n",
    "result = cirq.Simulator().run(circuit)\n",
    "print(result)\n",
    "```"
   ]
  },
  {
   "cell_type": "markdown",
   "id": "62453288",
   "metadata": {},
   "source": [
    "## 🧬 2. PyQuil (de Rigetti)\n",
    "\n",
    "**PyQuil** es una librería desarrollada por **Rigetti Computing**, basada en su propio lenguaje cuántico llamado **Quil**. Está diseñada para trabajar con la plataforma **Forest** de Rigetti, que incluye simuladores y acceso a hardware cuántico real.\n",
    "\n",
    "### Características principales:\n",
    "- Ofrece una sintaxis sencilla para construir y manipular **programas cuánticos**.\n",
    "- Proporciona acceso al simulador **QVM (Quantum Virtual Machine)** y al hardware **QPU (Quantum Processing Unit)**.\n",
    "- Permite realizar análisis de resultados con herramientas estadísticas y graficación.\n",
    "- Ideal para prototipar algoritmos cuánticos rápidamente.\n",
    "\n",
    "### Ejemplo de uso:\n",
    "```python\n",
    "from pyquil import Program\n",
    "from pyquil.gates import H, MEASURE\n",
    "from pyquil.api import local_forest_runtime\n",
    "\n",
    "p = Program()\n",
    "ro = p.declare('ro', 'BIT', 1)\n",
    "p.inst(H(0))\n",
    "p.inst(MEASURE(0, ro[0]))\n",
    "\n",
    "with local_forest_runtime():\n",
    "    from pyquil.api import QuantumComputer\n",
    "    qc = QuantumComputer(name='9q-square-qvm')\n",
    "    result = qc.run(p, trials=10)\n",
    "    print(result)\n",
    "```"
   ]
  },
  {
   "cell_type": "markdown",
   "id": "63f70add",
   "metadata": {},
   "source": [
    "## 🧮 3. TensorFlow Quantum (de Google)\n",
    "\n",
    "**TensorFlow Quantum (TFQ)** es una librería que combina **aprendizaje automático** con **computación cuántica**. Fue desarrollada por Google en conjunto con el Instituto de Tecnología de California (Caltech).\n",
    "\n",
    "Está diseñada para construir modelos de **machine learning híbridos**, donde los circuitos cuánticos forman parte del modelo entrenable.\n",
    "\n",
    "### Características principales:\n",
    "- Integra circuitos cuánticos con redes neuronales usando la infraestructura de **TensorFlow**.\n",
    "- Soporta entrenamiento con **backpropagation**, permitiendo optimizar circuitos cuánticos de forma similar a modelos de IA clásicos.\n",
    "- Ideal para investigar aplicaciones de machine learning cuántico: clasificación, reconocimiento de patrones, etc.\n",
    "- Usa **Cirq** internamente para definir los circuitos cuánticos.\n",
    "\n",
    "### Ejemplo de uso:\n",
    "```python\n",
    "import tensorflow as tf\n",
    "import tensorflow_quantum as tfq\n",
    "import cirq\n",
    "\n",
    "q0 = cirq.GridQubit(0, 0)\n",
    "circuit = cirq.Circuit(cirq.X(q0)**0.5)\n",
    "inputs = tfq.convert_to_tensor([circuit])\n",
    "print(inputs)\n",
    "```"
   ]
  },
  {
   "cell_type": "markdown",
   "id": "5ae1be68",
   "metadata": {},
   "source": [
    "## ⚖️ Comparativa entre las tres librerías\n",
    "\n",
    "| Característica           | **Cirq**              | **PyQuil**            | **TensorFlow Quantum**    |\n",
    "|--------------------------|------------------------|------------------------|----------------------------|\n",
    "| Empresa                  | Google                 | Rigetti               | Google + Caltech           |\n",
    "| Nivel de dificultad      | Medio-alto             | Bajo-medio            | Alto                       |\n",
    "| Enfoque principal        | Circuitos físicos      | Prototipado rápido     | Aprendizaje cuántico       |\n",
    "| Lenguaje base            | Python + Cirq API      | Python + Quil          | Python + TensorFlow + Cirq |\n",
    "| Uso con hardware real    | Sí (Google hardware)   | Sí (Rigetti QPU)       | No directo (simulación)    |\n",
    "| Integración con IA       | Limitada               | No                    | Total (ML + quantum)       |"
   ]
  },
  {
   "cell_type": "markdown",
   "id": "f7b72312",
   "metadata": {},
   "source": [
    "## 🎯 Conclusión\n",
    "\n",
    "- **Cirq** es ideal si quieres diseñar circuitos cuánticos para ejecutarlos en hardware real con precisión experimental.\n",
    "- **PyQuil** es excelente para quienes están aprendiendo o quieren prototipar rápidamente con acceso a simuladores y QPU de Rigetti.\n",
    "- **TensorFlow Quantum** permite llevar la computación cuántica a un nuevo nivel integrándola con técnicas de **inteligencia artificial moderna**."
   ]
  }
 ],
 "metadata": {},
 "nbformat": 4,
 "nbformat_minor": 5
}
